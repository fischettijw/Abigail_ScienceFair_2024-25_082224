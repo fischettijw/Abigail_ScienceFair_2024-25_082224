{
 "cells": [
  {
   "cell_type": "code",
   "execution_count": 21,
   "metadata": {},
   "outputs": [
    {
     "name": "stdout",
     "output_type": "stream",
     "text": [
      "             datetime AM_PM\n",
      "0 2024-09-26 08:30:00    AM\n",
      "1 2024-09-26 19:45:00    PM\n",
      "2 2024-09-26 14:00:00    AM\n"
     ]
    }
   ],
   "source": [
    "import pandas as pd\n",
    "\n",
    "# Sample dataframe with a datetime column\n",
    "data = {'datetime': ['2024-09-26 08:30:00', '2024-09-26 19:45:00', '2024-09-26 14:00:00']}\n",
    "df = pd.DataFrame(data)\n",
    "\n",
    "# Convert the 'datetime' column to datetime format\n",
    "df['datetime'] = pd.to_datetime(df['datetime'])\n",
    "\n",
    "# Function to classify as 'AM' or 'PM' based on the time\n",
    "def classify_time(row):\n",
    "    am_start = 6\n",
    "    if am_start <= row.hour < (am_start + 12):\n",
    "        return 'AM'\n",
    "    else:\n",
    "        return 'PM'\n",
    "\n",
    "# Apply the function to create the new column\n",
    "df['AM_PM'] = df['datetime'].apply(classify_time)\n",
    "\n",
    "print(df)\n"
   ]
  },
  {
   "cell_type": "code",
   "execution_count": 19,
   "metadata": {},
   "outputs": [
    {
     "name": "stdout",
     "output_type": "stream",
     "text": [
      "             datetime AM_PM\n",
      "0 2024-09-26 08:30:00    AM\n",
      "1 2024-09-26 19:45:00    PM\n",
      "2 2024-09-26 14:00:00    AM\n"
     ]
    }
   ],
   "source": [
    "import pandas as pd\n",
    "\n",
    "# Sample dataframe with a datetime column\n",
    "data = {'datetime': ['2024-09-26 08:30:00', '2024-09-26 19:45:00', '2024-09-26 14:00:00']}\n",
    "df = pd.DataFrame(data)\n",
    "\n",
    "# Convert the 'datetime' column to datetime format\n",
    "df['datetime'] = pd.to_datetime(df['datetime'])\n",
    "\n",
    "# Use a lambda expression to classify as 'AM' or 'PM'\n",
    "df['AM_PM'] = df['datetime'].apply(lambda hr: 'AM' if 6 <= hr.hour < 18 else 'PM')\n",
    "\n",
    "print(df)\n"
   ]
  }
 ],
 "metadata": {
  "kernelspec": {
   "display_name": "Python 3",
   "language": "python",
   "name": "python3"
  },
  "language_info": {
   "codemirror_mode": {
    "name": "ipython",
    "version": 3
   },
   "file_extension": ".py",
   "mimetype": "text/x-python",
   "name": "python",
   "nbconvert_exporter": "python",
   "pygments_lexer": "ipython3",
   "version": "3.12.4"
  }
 },
 "nbformat": 4,
 "nbformat_minor": 2
}
